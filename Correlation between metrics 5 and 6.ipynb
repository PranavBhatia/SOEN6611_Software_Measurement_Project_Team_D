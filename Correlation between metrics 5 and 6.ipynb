{
 "cells": [
  {
   "cell_type": "code",
   "execution_count": 1,
   "metadata": {},
   "outputs": [],
   "source": [
    "from scipy.stats import spearmanr\n",
    "import matplotlib.pyplot as plt\n",
    "import pandas as pd"
   ]
  },
  {
   "cell_type": "code",
   "execution_count": 19,
   "metadata": {},
   "outputs": [],
   "source": [
    "## JFreeChart\n",
    "jfreechart_results = pd.read_csv(\"jfreechart_Metric_5_6.csv\")\n",
    "#Software Defect Density Results \n",
    "sw_defect_density_data = jfreechart_results[\"Software Defect Density(Metric 6)\"]\n",
    "#Class Change Proneness Results\n",
    "avg_class_change_proneness_results = jfreechart_results[\"Average Class Change Proneness(Metric 5)\"]"
   ]
  },
  {
   "cell_type": "code",
   "execution_count": 21,
   "metadata": {},
   "outputs": [
    {
     "name": "stdout",
     "output_type": "stream",
     "text": [
      "SpearmanrResult(correlation=nan, pvalue=nan)\n"
     ]
    }
   ],
   "source": [
    "## Spearman Correlation Coefficient for Class Change Proneness(Metric 5) and Software Defect Density(Metric 6)\n",
    "print(spearmanr(sw_defect_density_data,avg_class_change_proneness_results))"
   ]
  },
  {
   "cell_type": "code",
   "execution_count": 22,
   "metadata": {},
   "outputs": [
    {
     "ename": "NameError",
     "evalue": "name 'defect_density_data' is not defined",
     "output_type": "error",
     "traceback": [
      "\u001b[0;31m---------------------------------------------------------------------------\u001b[0m",
      "\u001b[0;31mNameError\u001b[0m                                 Traceback (most recent call last)",
      "\u001b[0;32m<ipython-input-22-509645c9068d>\u001b[0m in \u001b[0;36m<module>\u001b[0;34m()\u001b[0m\n\u001b[0;32m----> 1\u001b[0;31m \u001b[0mdefect_density_plot\u001b[0m\u001b[0;34m,\u001b[0m\u001b[0mavg_class_change_proneness_plot\u001b[0m \u001b[0;34m=\u001b[0m \u001b[0mzip\u001b[0m\u001b[0;34m(\u001b[0m\u001b[0;34m*\u001b[0m\u001b[0msorted\u001b[0m\u001b[0;34m(\u001b[0m\u001b[0mzip\u001b[0m\u001b[0;34m(\u001b[0m\u001b[0mdefect_density_data\u001b[0m\u001b[0;34m,\u001b[0m\u001b[0mstatement_coverage_data\u001b[0m\u001b[0;34m)\u001b[0m\u001b[0;34m)\u001b[0m\u001b[0;34m)\u001b[0m\u001b[0;34m\u001b[0m\u001b[0m\n\u001b[0m",
      "\u001b[0;31mNameError\u001b[0m: name 'defect_density_data' is not defined"
     ]
    }
   ],
   "source": [
    "defect_density_plot,avg_class_change_proneness_plot = zip(*sorted(zip(defect_density_data,statement_coverage_data)))"
   ]
  },
  {
   "cell_type": "code",
   "execution_count": null,
   "metadata": {},
   "outputs": [],
   "source": []
  }
 ],
 "metadata": {
  "kernelspec": {
   "display_name": "Python 3",
   "language": "python",
   "name": "python3"
  },
  "language_info": {
   "codemirror_mode": {
    "name": "ipython",
    "version": 3
   },
   "file_extension": ".py",
   "mimetype": "text/x-python",
   "name": "python",
   "nbconvert_exporter": "python",
   "pygments_lexer": "ipython3",
   "version": "3.7.0"
  }
 },
 "nbformat": 4,
 "nbformat_minor": 2
}
